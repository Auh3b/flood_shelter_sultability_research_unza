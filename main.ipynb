{
 "cells": [
  {
   "cell_type": "code",
   "execution_count": 1,
   "id": "bc81a1ae",
   "metadata": {},
   "outputs": [],
   "source": [
    "import json\n",
    "import os\n",
    "import pandas as pd\n",
    "import ahpy\n",
    "import process_engine.stats as pes"
   ]
  },
  {
   "cell_type": "markdown",
   "id": "4d16a53f",
   "metadata": {},
   "source": [
    "Load file from json\n"
   ]
  },
  {
   "cell_type": "code",
   "execution_count": 2,
   "id": "d0f42045",
   "metadata": {},
   "outputs": [],
   "source": [
    "with open(os.path.join(os.getcwd(), 'raw_data', 'sample.json'), 'r') as file:\n",
    "    data = json.load(file)"
   ]
  },
  {
   "cell_type": "markdown",
   "id": "524edaec",
   "metadata": {},
   "source": [
    "Reformat data into pairwise comparison dictionary\n"
   ]
  },
  {
   "cell_type": "code",
   "execution_count": 3,
   "id": "c97eba9a",
   "metadata": {},
   "outputs": [],
   "source": [
    "cleaned = {}\n",
    "\n",
    "for key, value in data.items():\n",
    "    for subkey, subvalue in value.items():\n",
    "        importancy = subvalue['importancy']\n",
    "        scale = subvalue['scale']\n",
    "        if (importancy == 'A'):\n",
    "            cleaned[(key, subkey)] = scale\n",
    "        else:\n",
    "            cleaned[(key, subkey)] = pes.reciprocical_value(int(scale))"
   ]
  },
  {
   "cell_type": "code",
   "execution_count": 19,
   "id": "6cc6651c",
   "metadata": {},
   "outputs": [
    {
     "name": "stdout",
     "output_type": "stream",
     "text": [
      "{'flood_area': np.float64(0.337), 'slope': np.float64(0.19), 'elevation': np.float64(0.183), 'roads': np.float64(0.163), 'building': np.float64(0.065), 'population': np.float64(0.032), 'landuse': np.float64(0.03)}\n"
     ]
    }
   ],
   "source": [
    "shelter = ahpy.Compare(name='shelter', comparisons=cleaned,\n",
    "                       precision=3, random_index='saaty')\n",
    "print(shelter.target_weights)"
   ]
  },
  {
   "cell_type": "code",
   "execution_count": 5,
   "id": "fae688c3",
   "metadata": {},
   "outputs": [
    {
     "name": "stdout",
     "output_type": "stream",
     "text": [
      "0.175\n"
     ]
    }
   ],
   "source": [
    "print(shelter.consistency_ratio)"
   ]
  },
  {
   "cell_type": "code",
   "execution_count": 6,
   "id": "82a80967",
   "metadata": {},
   "outputs": [
    {
     "data": {
      "text/plain": [
       "{'name': 'shelter',\n",
       " 'global_weight': 1.0,\n",
       " 'local_weight': 1.0,\n",
       " 'target_weights': {'flood_area': np.float64(0.337),\n",
       "  'slope': np.float64(0.19),\n",
       "  'elevation': np.float64(0.183),\n",
       "  'roads': np.float64(0.163),\n",
       "  'building': np.float64(0.065),\n",
       "  'population': np.float64(0.032),\n",
       "  'landuse': np.float64(0.03)},\n",
       " 'elements': {'global_weights': {'flood_area': np.float64(0.337),\n",
       "   'slope': np.float64(0.19),\n",
       "   'elevation': np.float64(0.183),\n",
       "   'roads': np.float64(0.163),\n",
       "   'building': np.float64(0.065),\n",
       "   'population': np.float64(0.032),\n",
       "   'landuse': np.float64(0.03)},\n",
       "  'local_weights': {'flood_area': np.float64(0.337),\n",
       "   'slope': np.float64(0.19),\n",
       "   'elevation': np.float64(0.183),\n",
       "   'roads': np.float64(0.163),\n",
       "   'building': np.float64(0.065),\n",
       "   'population': np.float64(0.032),\n",
       "   'landuse': np.float64(0.03)},\n",
       "  'consistency_ratio': np.float64(0.175)}}"
      ]
     },
     "execution_count": 6,
     "metadata": {},
     "output_type": "execute_result"
    }
   ],
   "source": [
    "shelter.report()"
   ]
  },
  {
   "cell_type": "code",
   "execution_count": null,
   "id": "49f99283",
   "metadata": {},
   "outputs": [],
   "source": []
  }
 ],
 "metadata": {
  "kernelspec": {
   "display_name": "venv",
   "language": "python",
   "name": "python3"
  },
  "language_info": {
   "codemirror_mode": {
    "name": "ipython",
    "version": 3
   },
   "file_extension": ".py",
   "mimetype": "text/x-python",
   "name": "python",
   "nbconvert_exporter": "python",
   "pygments_lexer": "ipython3",
   "version": "3.11.9"
  }
 },
 "nbformat": 4,
 "nbformat_minor": 5
}
